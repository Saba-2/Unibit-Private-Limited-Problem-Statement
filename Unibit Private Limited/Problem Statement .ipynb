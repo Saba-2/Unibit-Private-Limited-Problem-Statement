{
 "cells": [
  {
   "cell_type": "markdown",
   "id": "be706b15",
   "metadata": {},
   "source": [
    "### Problem Statement"
   ]
  },
  {
   "cell_type": "code",
   "execution_count": 2,
   "id": "04ea3356",
   "metadata": {
    "ExecuteTime": {
     "end_time": "2023-07-07T09:49:00.797613Z",
     "start_time": "2023-07-07T09:49:00.765803Z"
    }
   },
   "outputs": [
    {
     "name": "stdout",
     "output_type": "stream",
     "text": [
      "First Combination For \"4\": [[3, 1], [2, 2], [8, -4]]\n",
      "Merge into a single array: [-6, -4, -2, 1, 2, 2, 3, 8]\n",
      "Second Combination For \"8\": [[-4, 1, 3, 8], [-4, 2, 2, 8], [1, 2, 2, 3]]\n"
     ]
    }
   ],
   "source": [
    "def find_combinations(nums, target):\n",
    "    result = []\n",
    "    seen = set()\n",
    "\n",
    "    for i in range(len(nums)):\n",
    "        complement = target - nums[i]\n",
    "        if complement in seen:\n",
    "            result.append([nums[i], complement])\n",
    "        seen.add(nums[i])\n",
    "\n",
    "    return result\n",
    "\n",
    "\n",
    "def merge_and_sort(arr):\n",
    "    return sorted(arr)\n",
    "\n",
    "\n",
    "def find_combinations_four_digits(arr, target):\n",
    "    result = []\n",
    "    current_combination = []\n",
    "    find_combinations_helper(arr, target, result, current_combination, 0)\n",
    "    return result\n",
    "\n",
    "\n",
    "def find_combinations_helper(arr, target, result, current_combination, start):\n",
    "    if target == 0 and len(current_combination) == 4:\n",
    "        result.append(current_combination.copy())\n",
    "        return\n",
    "    if target < 0 or len(current_combination) > 4:\n",
    "        return\n",
    "    for i in range(start, len(arr)):\n",
    "        current_combination.append(arr[i])\n",
    "        find_combinations_helper(arr, target - arr[i], result, current_combination, i + 1)\n",
    "        current_combination.pop()\n",
    "\n",
    "\n",
    "nums = [1, 3, 2, 2, -4, -6, -2, 8]\n",
    "target = 4\n",
    "\n",
    "# First Combination for \"4\"\n",
    "combinations = find_combinations(nums, target)\n",
    "print(\"First Combination For \\\"{}\\\": {}\".format(target, combinations))\n",
    "\n",
    "# Merge into a single array\n",
    "merged_array = merge_and_sort(nums)\n",
    "print(\"Merge into a single array: {}\".format(merged_array))\n",
    "\n",
    "# Second combination\n",
    "\n",
    "double_target = 8\n",
    "\n",
    "# Second Combination of 4 digits for \"8\"\n",
    "four_digits_combinations = find_combinations_four_digits(merged_array, double_target)\n",
    "print(\"Second Combination For \\\"{}\\\": {}\".format(double_target, four_digits_combinations))"
   ]
  },
  {
   "cell_type": "code",
   "execution_count": null,
   "id": "991050f9",
   "metadata": {},
   "outputs": [],
   "source": []
  }
 ],
 "metadata": {
  "kernelspec": {
   "display_name": "Python 3 (ipykernel)",
   "language": "python",
   "name": "python3"
  },
  "language_info": {
   "codemirror_mode": {
    "name": "ipython",
    "version": 3
   },
   "file_extension": ".py",
   "mimetype": "text/x-python",
   "name": "python",
   "nbconvert_exporter": "python",
   "pygments_lexer": "ipython3",
   "version": "3.9.7"
  }
 },
 "nbformat": 4,
 "nbformat_minor": 5
}
